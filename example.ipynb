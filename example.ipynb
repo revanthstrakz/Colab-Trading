{
  "nbformat": 4,
  "nbformat_minor": 0,
  "metadata": {
    "colab": {
      "name": "Alpaca+Colab.ipynb",
      "version": "0.3.2",
      "provenance": []
    },
    "kernelspec": {
      "name": "python3",
      "display_name": "Python 3"
    }
  },
  "cells": [
    {
      "cell_type": "code",
      "metadata": {
        "id": "sKcebqLgM4Zf",
        "colab_type": "code",
        "colab": {}
      },
      "source": [
        "!pip install alpaca-trade-api"
      ],
      "execution_count": 0,
      "outputs": []
    },
    {
      "cell_type": "code",
      "metadata": {
        "id": "yPUOXo0ee-bN",
        "colab_type": "code",
        "colab": {}
      },
      "source": [
        "import alpaca_trade_api as alpaca\n",
        "api = alpaca.REST('YOUR_API_KEY_ID', 'YOUR_API_SECRET_KEY', 'https://paper-api.alpaca.markets')"
      ],
      "execution_count": 0,
      "outputs": []
    },
    {
      "cell_type": "code",
      "metadata": {
        "id": "1fIfJtOAfFqP",
        "colab_type": "code",
        "colab": {}
      },
      "source": [
        "api.get_account()"
      ],
      "execution_count": 0,
      "outputs": []
    },
    {
      "cell_type": "code",
      "metadata": {
        "id": "p4ywvcRLm1yC",
        "colab_type": "code",
        "colab": {}
      },
      "source": [
        "api.submit_order('AAPL', side='buy', qty=1, type='market', time_in_force='gtc')"
      ],
      "execution_count": 0,
      "outputs": []
    },
    {
      "cell_type": "code",
      "metadata": {
        "id": "ssEaDUrp2Zy_",
        "colab_type": "code",
        "colab": {}
      },
      "source": [
        "api.list_positions()"
      ],
      "execution_count": 0,
      "outputs": []
    },
    {
      "cell_type": "code",
      "metadata": {
        "id": "4UVkOUd3fHXP",
        "colab_type": "code",
        "colab": {}
      },
      "source": [
        "api.get_barset('AAPL', 'day', limit=10).df"
      ],
      "execution_count": 0,
      "outputs": []
    },
    {
      "cell_type": "code",
      "metadata": {
        "id": "GwDFNJI8mwzf",
        "colab_type": "code",
        "colab": {}
      },
      "source": [
        "!pip install mpl_finance"
      ],
      "execution_count": 0,
      "outputs": []
    },
    {
      "cell_type": "code",
      "metadata": {
        "id": "QG2XTsujmxHT",
        "colab_type": "code",
        "colab": {}
      },
      "source": [
        "from mpl_finance import candlestick_ohlc\n",
        "import matplotlib.pyplot as plt\n",
        "import matplotlib.dates as mdates\n",
        "from pandas.plotting import register_matplotlib_converters\n",
        "register_matplotlib_converters()\n",
        "\n",
        "from matplotlib.dates import MONDAY, DateFormatter, DayLocator, WeekdayLocator\n",
        "\n",
        "df = api.get_barset('AAPL', 'day', limit=253).df['AAPL']\n",
        "quotes = zip(mdates.date2num(df.index.to_pydatetime()),\n",
        "                         df.open, df.high,\n",
        "                         df.low, df.close)\n",
        "fig, ax = plt.subplots(figsize=(20,10))\n",
        "ax.xaxis_date()\n",
        "ax.autoscale_view()\n",
        "alldays = DayLocator() \n",
        "ax.xaxis.set_minor_locator(alldays)\n",
        "candlestick_ohlc(ax, quotes, width=0.5, colorup='g', colordown='r');\n"
      ],
      "execution_count": 0,
      "outputs": []
    },
    {
      "cell_type": "code",
      "metadata": {
        "id": "qm4DjUM32dyl",
        "colab_type": "code",
        "colab": {}
      },
      "source": [
        ""
      ],
      "execution_count": 0,
      "outputs": []
    }
  ]
}
